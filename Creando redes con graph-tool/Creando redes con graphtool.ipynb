{
 "cells": [
  {
   "cell_type": "markdown",
   "metadata": {},
   "source": [
    "## Mini-tutorial: Creación de redes con Graph-Tool\n",
    "\n",
    "Este mini-tutorial tiene como objetivo mostrar la creación de redes y la asignación de propiedades a la red, enlaces y vértices, usando el paquete _graph-tool_ de _python_.\n",
    "\n",
    "Consiste en las siguientes secciones:\n",
    "\n",
    "0. Preparación del ambiente\n",
    "1. Creación de red: Caso simple\n",
    "2. Creación de red: Enlaces con peso\n",
    "3. Creación de red: Más propiedades\n",
    "4. Asignación de nuevas propiedades\n",
    "5. Salvar y cargar la red\n",
    "6. Trabajando con propiedades\n",
    "\n",
    "***"
   ]
  },
  {
   "cell_type": "markdown",
   "metadata": {},
   "source": [
    "### 0. Preparación del ambiente\n",
    "Lo primero que haremos es cargar las librerías _graph-tool_ y _pandas_.\n",
    "\n",
    "_pandas_ es una librería de _python_ para manejar tablas de datos (_Dataframes_), la cual tiene utilidades que nos serán prácticas a la hora de seleccionar datos para la creación de redes."
   ]
  },
  {
   "cell_type": "code",
   "execution_count": null,
   "metadata": {},
   "outputs": [],
   "source": [
    "import pandas as pd\n",
    "import numpy as np\n",
    "from itertools import izip\n",
    "\n",
    "# Cargamos paquete \"Graph-tool\" (version recomendada)\n",
    "import graph_tool.all as gt"
   ]
  },
  {
   "cell_type": "markdown",
   "metadata": {},
   "source": [
    "A continuación, cargamos los datos de ejemplo:"
   ]
  },
  {
   "cell_type": "code",
   "execution_count": null,
   "metadata": {},
   "outputs": [],
   "source": [
    "Data = pd.read_csv('ejemploData.csv',dtype={'dia': str, 'hora': str})\n",
    "\n",
    "# Echamos un vistazo a los primeros 15 registros de los datos\n",
    "Data.head(15)"
   ]
  },
  {
   "cell_type": "markdown",
   "metadata": {},
   "source": [
    "Vemos que hay tanto _CDRs_ de \"El Melon\" como de \"Maria Elena\", y estan mezclados.\n",
    "\n",
    "Como mencionamos anteriormente, una de las ventajas de usar _pandas_ es que nos permite filtrar los datos según distintos criterios, lo cual es muy práctico al seleccionar datos, sobre todo dentro de ciclos (Ej.: Al crear redes por ciudades).\n",
    "Veamos algunos ejemplos:"
   ]
  },
  {
   "cell_type": "code",
   "execution_count": null,
   "metadata": {},
   "outputs": [],
   "source": [
    "# Ejemplo 1: Solo llamadas hechas por alguien en Maria Elena\n",
    "data = Data[Data[\"city_a\"] == 'maria elena']\n",
    "data.head(15)"
   ]
  },
  {
   "cell_type": "code",
   "execution_count": null,
   "metadata": {},
   "outputs": [],
   "source": [
    "# Ejemplo 2: Solo llamadas recibidas por alguien en Maria Elena\n",
    "data = Data[Data[\"city_b\"] == 'maria elena']\n",
    "data.head(15)"
   ]
  },
  {
   "cell_type": "code",
   "execution_count": null,
   "metadata": {},
   "outputs": [],
   "source": [
    "# Ejemplo 3: Solo llamadas de duracion igual o menor a 10 segundos\n",
    "data = Data[Data[\"tiempo\"] <= 10]\n",
    "data.head(15)"
   ]
  },
  {
   "cell_type": "code",
   "execution_count": null,
   "metadata": {},
   "outputs": [],
   "source": [
    "# Ejemplo 4: Solo llamadas hechas dentro de una ciudad\n",
    "data = Data[Data[\"city_a\"] == Data[\"city_b\"]]\n",
    "data.head(15)"
   ]
  },
  {
   "cell_type": "code",
   "execution_count": null,
   "metadata": {},
   "outputs": [],
   "source": [
    "# Ejemplo 5: Solo llamadas hechas dentro de El Melon\n",
    "data = Data[(Data[\"city_a\"] == Data[\"city_b\"]) & (Data[\"city_a\"]=='el melon')]\n",
    "data.head(15)"
   ]
  },
  {
   "cell_type": "markdown",
   "metadata": {},
   "source": [
    "### 1. Creación de red simple\n",
    "Un caso simple que podemos hacer es generar redes **no dirigidas, sin peso y sin enlaces paralelos** (es decir, un único enlace entre cada par de de nodos, independiente de la cantidad de llamadas que presenten). Este fue el tipo de red que fue utilizado para la redacción del capítulo del libro."
   ]
  },
  {
   "cell_type": "code",
   "execution_count": null,
   "metadata": {},
   "outputs": [],
   "source": [
    "# Creamos la red vacia\n",
    "# - La opcion \"directed\" nos permite definir si es dirigida o no.\n",
    "# - Por defecto: directed=True\n",
    "net = gt.Graph(directed=False)"
   ]
  },
  {
   "cell_type": "code",
   "execution_count": null,
   "metadata": {},
   "outputs": [],
   "source": [
    "# Creamos red con todos los datos\n",
    "\n",
    "# Opcion \"hashed=T\": Indices de vertices asignados por orden de lectura\n",
    "# Opcion \"string_vals=T\": Nombre de vertices son textos tomados desde base de datos\n",
    "# (Permite asignar como nombre del vertice el ID asignado por TI+D)\n",
    "edgeList = zip(Data['num_a'],Data['num_b']) # Creamos la lista de enlaces\n",
    "net.add_edge_list(edgeList,hashed=True,string_vals=True)\n",
    "\n",
    "# Ya tenemos lista nuestra red! Sin embargo, eliminaremos los enlaces redundantes (paralelos)\n",
    "gt.remove_parallel_edges(net)"
   ]
  },
  {
   "cell_type": "markdown",
   "metadata": {},
   "source": [
    "<div class=\"alert alert-block alert-info\">\n",
    "<b>NOTA:</b> Graph-tool permite varias maneras de agregar nodos y enlaces a una red. En el ejmplo anterior le dimos directamente una lista con todos los enlaces, usando el método <i>add_edge_list()</i>. Otras formas de crear redes son:\n",
    " <ul>\n",
    "  <li>Agregar los enlaces de uno en uno, también con el método <i>add_edge_list()</i> (Ideal para pequeñas redes de prueba).</li>\n",
    "    <li>Agregar un conjunto de enlaces desde un archivo <i>CSV</i>, usando el método <i>load_graph_from_csv()</i> (Esta fue la forma que usé en mi librería).</li>\n",
    "    <li>Cargar una red completa desde un archivo, usando la función <i>load_graph()</i>.</li>\n",
    "</ul> \n",
    "</div>"
   ]
  },
  {
   "cell_type": "code",
   "execution_count": null,
   "metadata": {},
   "outputs": [],
   "source": [
    "# Observemos algunas caracteristicas de nuestra red:\n",
    "\n",
    "print('========================================')\n",
    "print('Numero de nodos: {:d}'.format(net.num_vertices()))\n",
    "print('Numero de enlaces: {:d}'.format(net.num_edges()))\n",
    "\n",
    "conectancia = 2*net.num_edges()/float(net.num_vertices()*(net.num_vertices()-1))\n",
    "print('Conectancia: {:.3f}'.format(conectancia))\n",
    "\n",
    "lsLocalCluster = gt.local_clustering(net)\n",
    "avgClustering = gt.vertex_average(net,lsLocalCluster)[0]\n",
    "print('Clustering local promedio (W&S): {:.3f}'.format(avgClustering))\n",
    "\n",
    "print('Transitividad (Newman): {:.3f}'.format(gt.global_clustering(net)[0]))\n",
    "print('Asortatividad: {:.3f}'.format(gt.assortativity(net,'out')[0]))\n",
    "\n",
    "print('Numero de componentes conectados: {:d}'.format(len(gt.label_components(net)[1])))\n",
    "\n",
    "# Observemos algunas caracteristicas de su componente mayor:\n",
    "print('========================================')\n",
    "Comp = gt.label_largest_component(net) # Componente principal\n",
    "subnet = gt.GraphView(net, vfilt=Comp)\n",
    "print('Nodos Componente mayor: {:d}'.format(subnet.num_vertices()))\n",
    "print('Enlaces Componente mayor: {:d}'.format(subnet.num_edges()))\n",
    "\n",
    "conectancia = 2*subnet.num_edges()/float(subnet.num_vertices()*(subnet.num_vertices()-1))\n",
    "print('Conectancia Componente mayor: {:.3f}'.format(conectancia))\n",
    "\n",
    "lsLocalCluster = gt.local_clustering(subnet)\n",
    "avgClustering = gt.vertex_average(subnet,lsLocalCluster)[0]\n",
    "print('Clustering local promedio (W&S): {:.3f}'.format(avgClustering))\n",
    "\n",
    "print('Transitividad (Newman): {:.3f}'.format(gt.global_clustering(subnet)[0]))\n",
    "print('Asortatividad: {:.3f}'.format(gt.assortativity(subnet,'out')[0]))"
   ]
  },
  {
   "cell_type": "markdown",
   "metadata": {},
   "source": [
    "### 2. Creación de red: Enlaces con peso\n",
    "\n",
    "Ahora repetiremos el procedimiento anterior para crear redes con peso. En realidad, _graph-tool_ no asigna un \"peso\" a los enlaces. Lo que hace en es asignar propiedades a los enlaces, que pueden ser numericas o no. Esto presenta tres ventajas:\n",
    "1. Permite asignar como \"pesos\" a los enlaces distintas propiedades de la interacción.\n",
    "1. Como se mencionó anteriormente, permite asignar a los enlaces propiedades no numéricas.\n",
    "1. Unifica y uniforma el procedimiento de asignación de propiedades para enlaces, nodos y la red misma.\n",
    "\n",
    "Crearemos una red donde el **peso** de cada enlace corresponde al **tiempo** de la llamada en segundos, usando el mismo procedimiento anterior. Esta vez, haremos una **red dirigida** y **sin eliminar los enlaces paralelos**.\n",
    "\n",
    "<div class=\"alert alert-block alert-info\">\n",
    "<b>NOTA:</b> Graph-tool hace una distinción entre propiedades (en general) y propiedades internas. Las propiedades son una forma de asociar información adicional a los nodos, enlaces y al grafo mismo. Las propiedades internas son propiedades \"internalizadas\" dentro de una red. Esto sgnifica que pueden ser copiadas y guardadas en un archivo junto a la red. Durante el resto del minitutorial, trabajaremos con propiedades internas.\n",
    "</div>"
   ]
  },
  {
   "cell_type": "code",
   "execution_count": null,
   "metadata": {},
   "outputs": [],
   "source": [
    "# Red vacia dirigida\n",
    "net = gt.Graph(directed=True)\n",
    "\n",
    "# Creamos la propiedad que utilizaremos como tiempo:\n",
    "segundos = net.new_edge_property(\"int\")\n",
    "# Ingresamos en el atributo de propiedades de enlaces de la red nuestra nueva propiedad, con la clave \"Tiempo\".\n",
    "net.edge_properties[\"Tiempo\"] = segundos\n",
    "\n",
    "# Lista con las propiedades de los enlaces que vamos a agregar\n",
    "lsprops = [segundos]\n",
    "\n",
    "# Crea la red a partir de base de datos\n",
    "edgeList = zip(data['num_a'],data['num_b'],data['tiempo'])\n",
    "net.add_edge_list(edgeList,hashed=True,string_vals=True,eprops=lsprops)"
   ]
  },
  {
   "cell_type": "markdown",
   "metadata": {},
   "source": [
    "Revisemos que hace cada línea:\n",
    "\n",
    "`segundos = net.new_edge_property(\"int\")`\n",
    "- Creamos una propiedad de los enlaces usando el metodo _new_edge_property()_ de la red.\n",
    "- Declaramos el tipo de variable que compone la propiedad como argumento del metodo.\n",
    "- Dicha propiedad la guardamos en una variable llamada \"_segundos_\".\n",
    "\n",
    "`net.edge_properties[\"Tiempo\"] = tiempo`\n",
    "- La red \"_net_\" tiene un atributo estilo diccionario para las propiedades de enlaces, nodos y de la red misma.\n",
    "- Con la línea anterior, creamos una entrada de nombre \"Tiempo\" en el atributo de propiedades de enlaces \"`edge_properties()`\". Le asignamos la propiedad (vacía) almacenada en la variable \"_segundos_\".\n",
    "\n",
    "`lsprops = [tiempo]`\n",
    "- Es una lista con todas las propiedades que le agregaremos a los enlaces al crear la red, en el orden que vienen almacenados en la tupla de enlaces (ver más adelante). En este caso, solo creamos una propiedad, por lo que esta lista tiene un elemento.\n",
    "\n",
    "`edgeList = zip(data['num_a'],data['num_b'],data['tiempo'])`\n",
    "- Creamos una lista de enlaces como tuplas de la forma (v_in, v_out, p0, p1, ..., pn), donde pi es la i-ésima propiedad en la lista que creamos anteriormente. En este caso, nuestras tuplas tienen sólo tres elementos.\n",
    "\n",
    "`net.add_edge_list(edgeList,hashed=True,string_vals=True,eprops=lsprops)`\n",
    "- Idéntico al uso que le dimos en el ejemplo anterior, excepto porque entregamos como argumento una lista con las propiedades.\n",
    "- El método `add_edge_list()` reconoce automáticamente los dos primeros elementos de cada tupla de enlaces como los vértices a enlazar, y los demás elementos como propiedades de los enlaces.\n",
    "\n",
    "A continuación, podemos ver las distintas propiedades de nuestras red:"
   ]
  },
  {
   "cell_type": "code",
   "execution_count": null,
   "metadata": {},
   "outputs": [],
   "source": [
    "# Lista con todas las propiedades\n",
    "net.list_properties()"
   ]
  },
  {
   "cell_type": "markdown",
   "metadata": {},
   "source": [
    "### 3. Creación de red: Más propiedades\n",
    "\n",
    "Ahora repetiremos el procedimiento anterior para crear redes con nuevas propiedades. Nuevamente, haremos una **red dirigida** y **sin eliminar los enlaces paralelos**. Esta vez, nuestros enlaces serán creados con dos propiedades: **tiempo** y **dia de la llamada**. A su vez, asignaremos a los nodos los **ID** de anonimización asignados por Telefónica I+D a sus usuarios."
   ]
  },
  {
   "cell_type": "code",
   "execution_count": null,
   "metadata": {},
   "outputs": [],
   "source": [
    "# Red vacia dirigida\n",
    "net = gt.Graph(directed=True)\n",
    "\n",
    "# Creamos las propiedades de enlaces:\n",
    "segundos = net.new_edge_property(\"int\")\n",
    "dias = net.new_edge_property(\"string\") # OJO: Usar \"str\" nos lanzara un ValueError\n",
    "# Ingresamos en el atributo de propiedades de enlaces de la red nuestra nueva propiedad, con la clave \"Tiempo\".\n",
    "net.edge_properties[\"Tiempo\"] = segundos\n",
    "net.edge_properties[\"Fechas\"] = dias\n",
    "\n",
    "# Lista con las propiedades de los enlaces que vamos a agregar\n",
    "lsprops = [segundos, dias]\n",
    "\n",
    "# Crea la red a partir de base de datos\n",
    "edgeList = zip(data['num_a'],data['num_b'],data['tiempo'],data['dia'])\n",
    "# Notar que ahora guardamos en una variable el retorno de add_edge_list()\n",
    "nombres = net.add_edge_list(edgeList,hashed=True,string_vals=True,eprops=lsprops)\n",
    "# Esta variable contiene una propiedad de vertices, la cual almacenamos como 'ID'\n",
    "net.vertex_properties['ID'] = nombres"
   ]
  },
  {
   "cell_type": "markdown",
   "metadata": {},
   "source": [
    "Hagamos un repaso:\n",
    "- Las propiedades de enlaces \"_Tiempo_\" y \"_Fechas_\" son añadidas de la misma forma que en el ejemplo anterior. Sólo ampliamos la lista de propiedades.\n",
    "- La propiedad de nodos \"*ID*\" obtiene los nombres a partir de la propiedad que retorna el método `add_edge_list()`. Las cadenas de texto que usaremos como etiquetas para los nodos las obtiene con el argumento `string_vals=True`.\n",
    "\n",
    "Revisamos las propiedades de nuestra red:"
   ]
  },
  {
   "cell_type": "code",
   "execution_count": null,
   "metadata": {},
   "outputs": [],
   "source": [
    "# Lista con todas las propiedades\n",
    "net.list_properties()"
   ]
  },
  {
   "cell_type": "markdown",
   "metadata": {},
   "source": [
    "### 4. Asignación de nuevas propiedades\n",
    "Al crear nuestra red, inmediatamente definimos dos propiedades para enlaces (\"_Tiempo_\" y \"_Fechas_\") y una propiedad para nodos (\"*ID*\"). Sin embargo, una vez la red ya ha sido creada, podemos seguir añadiendo nuevas propiedades. En este nuevo ejemplo, añadiremos una propiedad al grafo: **Ciudad**, dos propiedades nuevas a los nodos: **Tiempo_Emisor**, **Tiempo_Receptor** y **Tiempo_Total**, correspondientes al tiempo que invierte cada usuario en realizar y responder llamadas y en ambas acciones juntas; y dos nuevas propiedades a los enlaces: antenas de **Origen** y **Destino**.\n",
    "\n",
    "Para añadir una propiedad del grafo, el procedimiento es similar a la asignación de propiedad de enlaces que vimos con anterioridad:"
   ]
  },
  {
   "cell_type": "code",
   "execution_count": null,
   "metadata": {},
   "outputs": [],
   "source": [
    "# Creamos nueva propiedad, definiendo el tipo de variable que la compone\n",
    "nombreUrbe = net.new_graph_property('string')\n",
    "# Asignamos nombre a la propiedad dentro de los atributos de la red\n",
    "net.graph_properties['Ciudad'] = nombreUrbe\n",
    "# Asignamos valores a la propiedad\n",
    "net.graph_properties['Ciudad'] = 'El Melon'"
   ]
  },
  {
   "cell_type": "markdown",
   "metadata": {},
   "source": [
    "Para añadir una nueva propiedad a los nodos y enlaces, se repite el proceso, pero con el siguiente cuidado:\n",
    "1. Se crea la nueva propiedad\n",
    "2. Se asigna los valores de la propiedad a cada nodo/enlace uno a uno:\n",
    "    - `propiedad[nodo/enlace] = valor`\n",
    "3. Se guarda la nueva propiedad, con los valores ya asignados, dentro de la red"
   ]
  },
  {
   "cell_type": "code",
   "execution_count": null,
   "metadata": {},
   "outputs": [],
   "source": [
    "# Creamos un arreglo con el tiempo total que dedica cada usuario a realizar llamadas\n",
    "t_emisor=np.array([sum(data['tiempo'][data['num_a'] == net.vp.ID[v]]) for v in net.vertices()])\n",
    "\n",
    "# Creamos nueva propiedad, definiendo el tipo de variable que la compone\n",
    "tiempoLlamando = net.new_vertex_property('int')\n",
    "# Asignamos valores a la propiedad\n",
    "for v, t in izip(net.vertices(),t_emisor):\n",
    "    tiempoLlamando[v] = t\n",
    "# Asignamos la propiedad dentro de los atributos de la red\n",
    "net.vertex_properties['Tiempo_Emisor'] = tiempoLlamando"
   ]
  },
  {
   "cell_type": "code",
   "execution_count": null,
   "metadata": {},
   "outputs": [],
   "source": [
    "# Creamos nueva propiedad, definiendo el tipo de variable que la compone\n",
    "id_antena_A = net.new_edge_property('string')\n",
    "# Asignamos valores a la propiedad\n",
    "for e, ant in izip(net.edges(),data['antena_a']):\n",
    "    id_antena_A[e] = ant\n",
    "# Asignamos la propiedad dentro de los atributos de la red\n",
    "net.edge_properties['Origen'] = id_antena_A"
   ]
  },
  {
   "cell_type": "markdown",
   "metadata": {},
   "source": [
    "Los puntos 2 y 3 se pueden invertir:"
   ]
  },
  {
   "cell_type": "code",
   "execution_count": null,
   "metadata": {},
   "outputs": [],
   "source": [
    "# Creamos nueva propiedad, definiendo el tipo de variable que la compone\n",
    "id_antena_B = net.new_edge_property('string')\n",
    "# Asignamos la propiedad dentro de los atributos de la red\n",
    "net.edge_properties['Destino'] = id_antena_B\n",
    "# Asignamos valores a la propiedad\n",
    "for e, ant in izip(net.edges(),data['antena_b']):\n",
    "    net.edge_properties['Destino'][e] = ant"
   ]
  },
  {
   "cell_type": "markdown",
   "metadata": {},
   "source": [
    "En el caso de propiedades con tipos escalares numéricos, se pueden realizar las asignaciones directamente desde un arreglo, usando el método `get_array()` o el atributo `a` (ambas formas parecen ser equivalentes):"
   ]
  },
  {
   "cell_type": "code",
   "execution_count": null,
   "metadata": {},
   "outputs": [],
   "source": [
    "# Creamos un arreglo con el tiempo total que dedica cada usuario a responder llamadas\n",
    "t_receptor=np.array([sum(data['tiempo'][data['num_b'] == net.vp.ID[v]]) for v in net.vertices()])\n",
    "# Creamos un arreglo con el tiempo total que dedica cada usuario a llamadas\n",
    "t_total = t_receptor+t_emisor\n",
    "\n",
    "# Creamos nueva propiedad, definiendo el tipo de variable que la compone\n",
    "tiempoContestando = net.new_vertex_property('int')\n",
    "tiempoHablando = net.new_vertex_property('int')\n",
    "# Asignamos valores a la propiedad\n",
    "tiempoContestando.get_array()[:] = t_receptor\n",
    "tiempoHablando.a = t_total\n",
    "# Asignamos la propiedad dentro de los atributos de la red\n",
    "net.vertex_properties['Tiempo_Receptor'] = tiempoContestando\n",
    "net.vertex_properties['Tiempo_Total'] = tiempoHablando"
   ]
  },
  {
   "cell_type": "markdown",
   "metadata": {},
   "source": [
    "Finalmente, hacemos una última revisión a nuestra lista de propiedades:"
   ]
  },
  {
   "cell_type": "code",
   "execution_count": null,
   "metadata": {},
   "outputs": [],
   "source": [
    "net.list_properties()"
   ]
  },
  {
   "cell_type": "markdown",
   "metadata": {},
   "source": [
    "### 5. Salvar y cargar la red\n",
    "Podemos guardar nuestra red en archivos de distintos formatos. El recomendado es el formato `.gt`, ya que almacena las redes en un archivo binario, almacenando también las propiedades asignadas a la red, pero es incompatible con otros _softwares_. El otro formato que recomienda el creador de _graph-tool_ es `graphml`, el cual también preserva las propiedades y es compatible con otros _softwares_, pero guarda las redes en archivos de texto.\n",
    "\n",
    "Para guardar, basta con usar el método `save()` de la red, mientras que para cargar se ocupa la función `load_graph()`."
   ]
  },
  {
   "cell_type": "code",
   "execution_count": null,
   "metadata": {},
   "outputs": [],
   "source": [
    "# Guardamos nuestra red\n",
    "net.save('elMelonProp.gt')\n",
    "\n",
    "# Cargamos la red con otro nombre\n",
    "red = load_graph('elMelonProp.gt')"
   ]
  },
  {
   "cell_type": "markdown",
   "metadata": {},
   "source": [
    "### 6. Trabajando con propiedades\n",
    "<div class=\"alert alert-block alert-danger\">\n",
    "<b>EN CONSTRUCCIÓN:</b> Trabajar con la información de los pesos de los enlaces (o con cualquier propiedad en general) es algo que todavía estoy aprendiendo. Esta es una muestra limitada a mi experiencia personal.\n",
    "</div>\n",
    "\n",
    "Podemos recuperar la información de las propiedades como arreglos. Esto es válido solo si los tipos son escalares numéricos:"
   ]
  },
  {
   "cell_type": "code",
   "execution_count": null,
   "metadata": {},
   "outputs": [],
   "source": [
    "# Guardar propiedad como arreglo (valido solo con propiedades con tipos escalares numericos)\n",
    "# (Funciona como cualquier arreglo de numpy)\n",
    "propArray_Tiempo_a = net.ep.Tiempo.a\n",
    "propArray_Tiempo_get = net.ep.Tiempo.get_array()[:]"
   ]
  },
  {
   "cell_type": "markdown",
   "metadata": {},
   "source": [
    "Podemos recuperar el valor de cualquier propiedad de un enlace *e* o nodo *v* mediante:\n",
    "- `grafo.ep.[\"Propiedad\"][e]` (para los enlaces)\n",
    "- `grafo.vp.[\"Propiedad\"][v]` (para los nodos)\n",
    "\n",
    "El mismo resultado se puede obtener mediante:\n",
    "- `grafo.ep.Propiedad[e]` (para los enlaces)\n",
    "- `grafo.vp.Propiedad[v]` (para los nodos)\n",
    "siempre y cuando el nombre de la propiedad no contenga espacios."
   ]
  },
  {
   "cell_type": "code",
   "execution_count": null,
   "metadata": {},
   "outputs": [],
   "source": [
    "# Seleccionamos tres nodos y obtenemos sus propiedades\n",
    "tresNodos = [v for v in net.vertices()][:3]\n",
    "\n",
    "for n in tresNodos:\n",
    "    # Extraemos informacion\n",
    "    nombre = net.vp.ID[n]\n",
    "    tiempoE = net.vp.Tiempo_Emisor[n]\n",
    "    tiempoR = net.vp.Tiempo_Receptor[n]\n",
    "    tiempoT = net.vp.Tiempo_Total[n]\n",
    "    # Imprimimos en pantalla\n",
    "    print('---------------------------')\n",
    "    print('El nodo llamado {}'.format(nombre))\n",
    "    print('Llama {:d} segundos.'.format(tiempoE))\n",
    "    print('Contesta {:d} segundos.'.format(tiempoR))\n",
    "    print('Por lo tanto, habla {:d} segundos.'.format(tiempoT))\n"
   ]
  },
  {
   "cell_type": "code",
   "execution_count": null,
   "metadata": {},
   "outputs": [],
   "source": [
    "# Seleccionamos tres enlaces y obtenemos sus propiedades\n",
    "tresEnlaces = [e for e in net.edges()][:3]\n",
    "\n",
    "for e in tresEnlaces:\n",
    "    # Extraemos informacion\n",
    "    desde = net.ep.Origen[e]\n",
    "    hacia = net.ep.Destino[e]\n",
    "    tiempo = net.ep.Tiempo[e]\n",
    "    fecha = net.ep.Fechas[e]\n",
    "    # Imprimimos en pantalla\n",
    "    print('---------------------------')\n",
    "    print('Una de las llamadas hecha el {}'.format(fecha))\n",
    "    print('tuvo una duracion de {:d} segundos.'.format(tiempo))\n",
    "    print('Se hizo desde {}'.format(desde))\n",
    "    print('y fue recibida en {}.'.format(hacia))\n"
   ]
  },
  {
   "cell_type": "code",
   "execution_count": null,
   "metadata": {},
   "outputs": [],
   "source": [
    "# Queremos saber cuales son los vecinos de los tres nodos escogidos\n",
    "for n in tresNodos:\n",
    "    # Seleccionamos los vecinos\n",
    "    vecinos = n.out_neighbors()\n",
    "    # Extraemos los nombres\n",
    "    print('Vecinos de {}'.format(net.vp.ID[n]))\n",
    "    for v in vecinos:\n",
    "        print(net.vp.ID[v])"
   ]
  },
  {
   "cell_type": "markdown",
   "metadata": {},
   "source": [
    "### A.0 Problemas no resueltos\n",
    "<div class=\"alert alert-block alert-danger\">\n",
    "Hay algunos problemas con los que me he topado y que al momento de escribir el tutorial desconozco su solución.\n",
    "</div>\n",
    "- PÉRDIDA DE PROPIEDADES AL FILTRAR NODOS: Al filtrar nodos de una red usando la función `set_vertex_filter()`, la subred creada pierde las propiedades de la red original. Falta probar que pasa si se usa la función `GraphView()` (Ver referencias). Posible _bug_.\n",
    "    \n",
    "- OBTENCIÓN DE PROPIEDADES NO NUMÉRICAS: No sé como obtener un arreglo de propiedades si estas no son numéricas, más allá de hacer un ciclo, extrayendo las propiedades para todos los nodos/enlaces.\n",
    "\n",
    "- COMPRESIÓN DE ENLACES MÚLTIPLES: Si hay enlaces múltiples entre dos nodos, hay que resolver como eliminar los enlaces redundantes manteniendo información de las propiedades. Posible solución manejando tabla _pandas_.\n"
   ]
  },
  {
   "cell_type": "markdown",
   "metadata": {},
   "source": [
    "### A.1 Referencias:\n",
    "\n",
    "#### Usadas en la creación de este tutorial:\n",
    "\n",
    "\"Official documentation: Quick start\"\n",
    "https://graph-tool.skewed.de/static/doc/quickstart.html\n",
    "\n",
    "\"Official documentation: Module documentation\"\n",
    "https://graph-tool.skewed.de/static/doc/graph_tool.html\n",
    "\n",
    "\"How to add properties to edges when using add edge list in graph tool\"\n",
    "https://stackoverflow.com/questions/45821741/\n",
    "\n",
    "#### Tópicos no vistos en este tutorial\n",
    "\n",
    "\"How to access properties of a copied graph\"\n",
    "https://stackoverflow.com/questions/44646647/\n",
    "\n",
    "\"Setting default property value in graph tool\"\n",
    "https://stackoverflow.com/questions/36153290/\n",
    "\n",
    "\"Weighted degree distribution in python's graph tool\"\n",
    "https://stackoverflow.com/questions/27952655/\n",
    "\n",
    "\"graph tool surprisingly slow compared to networkx\" (Sobre _performance_ )\n",
    "https://stackoverflow.com/questions/36193773/\n",
    "\n",
    "\"graph tool access vertex properties\" (Sobre _performance_ - Avanzado)\n",
    "https://stackoverflow.com/questions/42787443/"
   ]
  },
  {
   "cell_type": "code",
   "execution_count": null,
   "metadata": {},
   "outputs": [],
   "source": []
  }
 ],
 "metadata": {
  "kernelspec": {
   "display_name": "Python 2",
   "language": "python",
   "name": "python2"
  },
  "language_info": {
   "codemirror_mode": {
    "name": "ipython",
    "version": 2
   },
   "file_extension": ".py",
   "mimetype": "text/x-python",
   "name": "python",
   "nbconvert_exporter": "python",
   "pygments_lexer": "ipython2",
   "version": "2.7.15"
  }
 },
 "nbformat": 4,
 "nbformat_minor": 2
}
